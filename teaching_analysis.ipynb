{
 "cells": [
  {
   "cell_type": "code",
   "execution_count": 1,
   "id": "0970551e",
   "metadata": {},
   "outputs": [],
   "source": [
    "import pandas as pd\n",
    "import numpy as np\n",
    "from matplotlib import pyplot as plt"
   ]
  },
  {
   "cell_type": "code",
   "execution_count": 2,
   "id": "e2d84949",
   "metadata": {},
   "outputs": [],
   "source": [
    "df = pd.read_csv(\"./gradesf2022.csv\")"
   ]
  },
  {
   "cell_type": "code",
   "execution_count": 3,
   "id": "abb484dc",
   "metadata": {
    "scrolled": false
   },
   "outputs": [],
   "source": [
    "#clean\n",
    "keep = [hw[0] for hw in pd.Series(df.columns).str.extract(\"(Assignment \\d+ .*)\").dropna().values]\n",
    "keep.insert(0, \"Student\")\n",
    "students = df.loc[2:len(df)-2, keep].set_index(\"Student\").astype(float)\n",
    "final_scores = df.loc[2:len(df)-2, [\"Student\", \"Assignments Final Score\"]].set_index(\"Student\").astype(float)"
   ]
  },
  {
   "cell_type": "code",
   "execution_count": 4,
   "id": "3f31a0d1",
   "metadata": {
    "scrolled": true
   },
   "outputs": [],
   "source": [
    "#differences by assignment\n",
    "diffs=students.diff(periods = 1, axis=1)\n",
    "\n",
    "#students who grew experience more positive jumps between assignments\n",
    "def count_positive(x):\n",
    "    return sum(x>0)\n",
    "grow_stats = pd.DataFrame(diffs.apply(count_positive, axis=1)).rename(columns={0:\"Jump Count\"})\n",
    "#grow_stats"
   ]
  },
  {
   "cell_type": "code",
   "execution_count": 5,
   "id": "695f67d1",
   "metadata": {
    "scrolled": true
   },
   "outputs": [],
   "source": [
    "#students who grew experience positive jumps of higher value between assignments\n",
    "def sum_positive(x):\n",
    "    return x[x>0].sum()\n",
    "new_grow_stats = pd.concat([grow_stats, pd.DataFrame(diffs.apply(sum_positive, axis=1))], axis=1).\\\n",
    "            rename(columns={0:\"Jump Amount\"})\n",
    "\n",
    "#new_grow_stats"
   ]
  },
  {
   "cell_type": "code",
   "execution_count": 6,
   "id": "c79096cc",
   "metadata": {
    "scrolled": true
   },
   "outputs": [],
   "source": [
    "#the top growers were probably a combination of the two\n",
    "#lets calculate a score that's the mean of the two\n",
    "\n",
    "scores = pd.DataFrame(new_grow_stats.mean(axis=1).sort_values(ascending=False)).rename(columns={0:\"Score\"})\n",
    "\n",
    "#lets get the top 10 scores\n",
    "growers = scores.nlargest(10, \"Score\")\n",
    "\n",
    "#growers"
   ]
  },
  {
   "cell_type": "code",
   "execution_count": 7,
   "id": "c9b516bc",
   "metadata": {},
   "outputs": [],
   "source": [
    "#the score is weighting the jump size and number of jumps equally\n",
    "#let's see if there's any extraordinary jumpers (by number or size)\n",
    "\n",
    "highest_jumps = students.loc[diffs.apply(sum_positive, axis=1).nlargest(10).index.values, :]\n",
    "most_jumps = students.loc[diffs.apply(count_positive, axis=1).nlargest(10).index.values, :]\n",
    "#display(highest_jumps)\n",
    "#display(most_jumps)"
   ]
  },
  {
   "cell_type": "code",
   "execution_count": 8,
   "id": "e180a7e7",
   "metadata": {},
   "outputs": [],
   "source": [
    "#add these top performers to the growers list if they don't exist already\n",
    "outstanding = highest_jumps.merge(most_jumps, how=\"outer\", left_index=True, right_index=True).index.values\n",
    "#performers"
   ]
  },
  {
   "cell_type": "code",
   "execution_count": 9,
   "id": "120fff4f",
   "metadata": {
    "scrolled": true
   },
   "outputs": [],
   "source": [
    "outstander_scores = pd.DataFrame(new_grow_stats.loc[outstanding].mean(axis=1).sort_values(ascending=False)). \\\n",
    "        rename(columns={0:\"Score\"})"
   ]
  },
  {
   "cell_type": "code",
   "execution_count": 10,
   "id": "95c53ca4",
   "metadata": {},
   "outputs": [
    {
     "name": "stdout",
     "output_type": "stream",
     "text": [
      "17\n"
     ]
    }
   ],
   "source": [
    "all_growers = scores.loc[pd.concat([growers, outstander_scores]).index.drop_duplicates(), :]\n",
    "print(len(all_growers))\n",
    "#all_growers"
   ]
  },
  {
   "cell_type": "code",
   "execution_count": 11,
   "id": "29d04d49",
   "metadata": {},
   "outputs": [],
   "source": [
    "#notice that the 17 growers we find are NOT necessarily those with the top 17 growth scores\n",
    "#this shows that there are anomalies with high jump frequencies or sizes\n",
    "\n",
    "top17 = scores.nlargest(17, \"Score\")\n",
    "\n",
    "anomalies = scores.loc[all_growers.index.difference(top17.index), :].sort_values(\"Score\", ascending=False)\n",
    "#anomalies"
   ]
  },
  {
   "cell_type": "code",
   "execution_count": 12,
   "id": "8ab80c49",
   "metadata": {},
   "outputs": [],
   "source": [
    "#we can now graph the trajectories of the growers\n",
    "\n",
    "grow_names = all_growers.index.values"
   ]
  },
  {
   "cell_type": "code",
   "execution_count": null,
   "id": "a123750f",
   "metadata": {},
   "outputs": [],
   "source": []
  },
  {
   "cell_type": "code",
   "execution_count": null,
   "id": "05731ece",
   "metadata": {},
   "outputs": [],
   "source": []
  },
  {
   "cell_type": "code",
   "execution_count": null,
   "id": "1b25bba0",
   "metadata": {},
   "outputs": [],
   "source": []
  },
  {
   "cell_type": "code",
   "execution_count": null,
   "id": "cd636964",
   "metadata": {},
   "outputs": [],
   "source": []
  },
  {
   "cell_type": "code",
   "execution_count": 18,
   "id": "cb7db7a9",
   "metadata": {},
   "outputs": [
    {
     "data": {
      "image/png": "[encoded data removed]",
      "text/plain": [
       "<Figure size 640x480 with 2 Axes>"
      ]
     },
     "metadata": {},
     "output_type": "display_data"
    }
   ],
   "source": [
    "#find overall average and compare to growers' average\n",
    "\n",
    "overall_avg = np.mean(final_scores.values.flatten())\n",
    "growers_avg = np.mean(final_scores.loc[grow_names, :].values.flatten())\n",
    "else_avg = np.mean(final_scores.loc[final_scores.index.difference(all_growers.index), :].values.flatten())\n",
    "\n",
    "labels = [\"Everyone\", \"Growers\", \"Everyone Else\"]\n",
    "colors = [\"blue\", \"green\", \"orange\"]\n",
    "x = np.arange(2,8,2)\n",
    "\n",
    "fig, ax = plt.subplots(1,2, constrained_layout=True)\n",
    "#fig.tight_layout(pad=1.0)\n",
    "fig.suptitle(\"Average Assignment Scores\")\n",
    "ax[0].bar(x, width = 1, height=[overall_avg, growers_avg, else_avg], color=colors, tick_label=labels)\n",
    "ax[0].set_yticks(np.arange(0,110,10))\n",
    "ax[0].set_ylim((0, 100))\n",
    "\n",
    "ax[1].bar(x, width = 1, height=[overall_avg, growers_avg, else_avg], color=colors, tick_label=labels)\n",
    "ax[1].set_ylim((70, 100))\n",
    "ax[0].set_title(\"Full Range\")\n",
    "ax[1].set_title(\"Zoomed In\")\n",
    "pass"
   ]
  },
  {
   "cell_type": "code",
   "execution_count": 15,
   "id": "286e4f5c",
   "metadata": {},
   "outputs": [],
   "source": [
    "#that \"everyone else\" category can probably be broken down into high and low performers\n",
    "\n",
    "#let's find scorers above the 90th percentile (90% of scores lie below this)\n",
    "perc90 = np.percentile(final_scores.values.flatten(), 90)\n",
    "high_performers = final_scores.loc[final_scores.values.flatten()>perc90, :]\n",
    "#let's find scorers below the 10th percentile (10% of scores lie below this)\n",
    "perc10 = np.percentile(final_scores.values.flatten(), 10)\n",
    "low_performers = final_scores.loc[final_scores.values.flatten()<perc10, :]\n",
    "\n",
    "#make sure none of our growers are in these categories\n",
    "high_performers = high_performers.loc[high_performers.index.difference(all_growers.index), :]\n",
    "low_performers = low_performers.loc[low_performers.index.difference(all_growers.index), :]"
   ]
  },
  {
   "cell_type": "code",
   "execution_count": 16,
   "id": "501956ea",
   "metadata": {},
   "outputs": [],
   "source": [
    "high_avg = high_performers.values.flatten().mean()\n",
    "low_avg = low_performers.values.flatten().mean()\n",
    "\n",
    "all_else = final_scores.index.difference(all_growers.index).difference(high_performers.index). \\\n",
    "    difference(low_performers.index)\n",
    "allelse_avg = np.mean(final_scores.loc[all_else, :].values.flatten())"
   ]
  },
  {
   "cell_type": "code",
   "execution_count": 19,
   "id": "f0e6fb85",
   "metadata": {},
   "outputs": [
    {
     "data": {
      "image/png": "[encoded data removed]",
      "text/plain": [
       "<Figure size 1850x1050 with 2 Axes>"
      ]
     },
     "metadata": {},
     "output_type": "display_data"
    }
   ],
   "source": [
    "labels = [\"Everyone\", \"Growers\", \"High Performers\", \"Low Performers\", \"Everyone Else\"]\n",
    "colors = [\"blue\", \"green\", \"pink\", \"red\", \"orange\"]\n",
    "x = np.arange(10,60,10)\n",
    "\n",
    "fig, ax = plt.subplots(1,2)\n",
    "\n",
    "#fig.tight_layout(pad=5.0)\n",
    "fig.suptitle(\"Average Assignment Scores\")\n",
    "ax[0].bar(x, width = 5, height=[overall_avg, growers_avg, high_avg, low_avg, allelse_avg], \\\n",
    "          color=colors, tick_label=labels)\n",
    "ax[0].set_ylim((0, 100))\n",
    "ax[0].set_yticks(np.arange(0,110,10))\n",
    "ax[1].bar(x, width = 5, height=[overall_avg, growers_avg, high_avg, low_avg, allelse_avg], color=colors, tick_label=labels)\n",
    "ax[1].set_ylim((70, 100))\n",
    "ax[0].set_title(\"Full Range\")\n",
    "ax[1].set_title(\"Zoomed In\")\n",
    "\n",
    "fig.set_size_inches(18.5, 10.5)\n",
    "pass\n"
   ]
  },
  {
   "cell_type": "code",
   "execution_count": null,
   "id": "e1b1745c",
   "metadata": {},
   "outputs": [],
   "source": []
  },
  {
   "cell_type": "code",
   "execution_count": null,
   "id": "7f1c204e",
   "metadata": {},
   "outputs": [],
   "source": []
  },
  {
   "cell_type": "code",
   "execution_count": null,
   "id": "91089a86",
   "metadata": {},
   "outputs": [],
   "source": []
  },
  {
   "cell_type": "code",
   "execution_count": null,
   "id": "c1cd66f2",
   "metadata": {},
   "outputs": [],
   "source": []
  },
  {
   "cell_type": "code",
   "execution_count": null,
   "id": "ffc2de54",
   "metadata": {},
   "outputs": [],
   "source": []
  },
  {
   "cell_type": "code",
   "execution_count": null,
   "id": "ec067d41",
   "metadata": {},
   "outputs": [],
   "source": []
  },
  {
   "cell_type": "code",
   "execution_count": null,
   "id": "c4f05be1",
   "metadata": {},
   "outputs": [],
   "source": []
  },
  {
   "cell_type": "code",
   "execution_count": null,
   "id": "c0578ab2",
   "metadata": {},
   "outputs": [],
   "source": []
  },
  {
   "cell_type": "code",
   "execution_count": null,
   "id": "0493cc2a",
   "metadata": {},
   "outputs": [],
   "source": []
  },
  {
   "cell_type": "code",
   "execution_count": null,
   "id": "4c525a28",
   "metadata": {},
   "outputs": [],
   "source": []
  }
 ],
 "metadata": {
  "kernelspec": {
   "display_name": "Python 3 (ipykernel)",
   "language": "python",
   "name": "python3"
  },
  "language_info": {
   "codemirror_mode": {
    "name": "ipython",
    "version": 3
   },
   "file_extension": ".py",
   "mimetype": "text/x-python",
   "name": "python",
   "nbconvert_exporter": "python",
   "pygments_lexer": "ipython3",
   "version": "3.9.13"
  }
 },
 "nbformat": 4,
 "nbformat_minor": 5
}
