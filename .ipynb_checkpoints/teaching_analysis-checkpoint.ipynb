{
 "cells": [
  {
   "cell_type": "code",
   "execution_count": 2,
   "id": "0970551e",
   "metadata": {},
   "outputs": [],
   "source": [
    "import pandas as pd\n",
    "import numpy as np"
   ]
  },
  {
   "cell_type": "code",
   "execution_count": 3,
   "id": "e2d84949",
   "metadata": {},
   "outputs": [],
   "source": [
    "df = pd.read_csv(\"./gradesf2022.csv\")"
   ]
  },
  {
   "cell_type": "code",
   "execution_count": 4,
   "id": "abb484dc",
   "metadata": {
    "scrolled": false
   },
   "outputs": [],
   "source": [
    "#clean\n",
    "keep = [hw[0] for hw in pd.Series(df.columns).str.extract(\"(Assignment \\d+ .*)\").dropna().values]\n",
    "keep.insert(0, \"Student\")\n",
    "students = df.loc[2:len(df)-2, keep].set_index(\"Student\").astype(float)\n",
    "final_scores = df.loc[2:len(df)-2, [\"Student\", \"Assignments Final Score\"]].set_index(\"Student\")"
   ]
  },
  {
   "cell_type": "code",
   "execution_count": 5,
   "id": "3f31a0d1",
   "metadata": {
    "scrolled": true
   },
   "outputs": [],
   "source": [
    "#differences by assignment\n",
    "diffs=students.diff(periods = 1, axis=1)\n",
    "\n",
    "#students who grew experience more positive jumps between assignments\n",
    "def count_positive(x):\n",
    "    return sum(x>0)\n",
    "grow_stats = pd.DataFrame(diffs.apply(count_positive, axis=1)).rename(columns={0:\"Jump Count\"})\n",
    "#grow_stats"
   ]
  },
  {
   "cell_type": "code",
   "execution_count": 6,
   "id": "695f67d1",
   "metadata": {
    "scrolled": true
   },
   "outputs": [],
   "source": [
    "#students who grew experience positive jumps of higher value between assignments\n",
    "def sum_positive(x):\n",
    "    return x[x>0].sum()\n",
    "new_grow_stats = pd.concat([grow_stats, pd.DataFrame(diffs.apply(sum_positive, axis=1))], axis=1).\\\n",
    "            rename(columns={0:\"Jump Amount\"})\n",
    "\n",
    "#new_grow_stats"
   ]
  },
  {
   "cell_type": "code",
   "execution_count": 7,
   "id": "c79096cc",
   "metadata": {
    "scrolled": true
   },
   "outputs": [],
   "source": [
    "#the top growers were probably a combination of the two\n",
    "#lets calculate a score that's the mean of the two\n",
    "\n",
    "scores = pd.DataFrame(new_grow_stats.mean(axis=1).sort_values(ascending=False)).rename(columns={0:\"Score\"})\n",
    "\n",
    "#lets get the top 10 scores\n",
    "growers = scores.nlargest(10, \"Score\")\n",
    "\n",
    "#growers"
   ]
  },
  {
   "cell_type": "code",
   "execution_count": 8,
   "id": "c9b516bc",
   "metadata": {},
   "outputs": [],
   "source": [
    "#the score is weighting the jump size and number of jumps equally\n",
    "#let's see if there's any extraordinary jumpers (by number or size)\n",
    "\n",
    "highest_jumps = students.loc[diffs.apply(sum_positive, axis=1).nlargest(10).index.values, :]\n",
    "most_jumps = students.loc[diffs.apply(count_positive, axis=1).nlargest(10).index.values, :]\n",
    "#display(highest_jumps)\n",
    "#display(most_jumps)"
   ]
  },
  {
   "cell_type": "code",
   "execution_count": 9,
   "id": "e180a7e7",
   "metadata": {},
   "outputs": [],
   "source": [
    "#add these top performers to the growers list if they don't exist already\n",
    "performers = highest_jumps.merge(most_jumps, how=\"outer\", left_index=True, right_index=True).index.values\n",
    "#performers"
   ]
  },
  {
   "cell_type": "code",
   "execution_count": 12,
   "id": "120fff4f",
   "metadata": {
    "scrolled": true
   },
   "outputs": [],
   "source": [
    "performer_scores = pd.DataFrame(new_grow_stats.loc[performers].mean(axis=1).sort_values(ascending=False)). \\\n",
    "        rename(columns={0:\"Score\"})"
   ]
  },
  {
   "cell_type": "code",
   "execution_count": 14,
   "id": "95c53ca4",
   "metadata": {},
   "outputs": [
    {
     "name": "stdout",
     "output_type": "stream",
     "text": [
      "53\n"
     ]
    }
   ],
   "source": [
    "all_growers = scores.loc[pd.concat([new_grow_stats, performer_scores]).index.drop_duplicates(), :]\n",
    "print(len(all_growers))\n",
    "#all_growers"
   ]
  },
  {
   "cell_type": "code",
   "execution_count": 15,
   "id": "29d04d49",
   "metadata": {},
   "outputs": [],
   "source": [
    "#notice that the 17 growers we find are NOT necessarily those with the top 17 growth scores\n",
    "\n",
    "top17 = scores.nlargest(17, \"Score\")\n",
    "\n",
    "anomalies = scores.loc[all_growers.index.difference(top17.index), :].sort_values(\"Score\", ascending=False)\n",
    "#anomalies"
   ]
  },
  {
   "cell_type": "code",
   "execution_count": null,
   "id": "f8b4eb4a",
   "metadata": {},
   "outputs": [],
   "source": []
  },
  {
   "cell_type": "code",
   "execution_count": null,
   "id": "cd636964",
   "metadata": {},
   "outputs": [],
   "source": []
  },
  {
   "cell_type": "code",
   "execution_count": null,
   "id": "cb7db7a9",
   "metadata": {},
   "outputs": [],
   "source": []
  },
  {
   "cell_type": "code",
   "execution_count": null,
   "id": "286e4f5c",
   "metadata": {},
   "outputs": [],
   "source": []
  },
  {
   "cell_type": "code",
   "execution_count": null,
   "id": "f0e6fb85",
   "metadata": {},
   "outputs": [],
   "source": []
  },
  {
   "cell_type": "code",
   "execution_count": null,
   "id": "e1b1745c",
   "metadata": {},
   "outputs": [],
   "source": []
  },
  {
   "cell_type": "code",
   "execution_count": null,
   "id": "7f1c204e",
   "metadata": {},
   "outputs": [],
   "source": []
  },
  {
   "cell_type": "code",
   "execution_count": null,
   "id": "91089a86",
   "metadata": {},
   "outputs": [],
   "source": []
  },
  {
   "cell_type": "code",
   "execution_count": null,
   "id": "c1cd66f2",
   "metadata": {},
   "outputs": [],
   "source": []
  },
  {
   "cell_type": "code",
   "execution_count": null,
   "id": "ffc2de54",
   "metadata": {},
   "outputs": [],
   "source": []
  },
  {
   "cell_type": "code",
   "execution_count": null,
   "id": "ec067d41",
   "metadata": {},
   "outputs": [],
   "source": []
  },
  {
   "cell_type": "code",
   "execution_count": null,
   "id": "c4f05be1",
   "metadata": {},
   "outputs": [],
   "source": []
  },
  {
   "cell_type": "code",
   "execution_count": null,
   "id": "c0578ab2",
   "metadata": {},
   "outputs": [],
   "source": []
  },
  {
   "cell_type": "code",
   "execution_count": null,
   "id": "0493cc2a",
   "metadata": {},
   "outputs": [],
   "source": []
  },
  {
   "cell_type": "code",
   "execution_count": null,
   "id": "4c525a28",
   "metadata": {},
   "outputs": [],
   "source": []
  }
 ],
 "metadata": {
  "kernelspec": {
   "display_name": "Python 3 (ipykernel)",
   "language": "python",
   "name": "python3"
  },
  "language_info": {
   "codemirror_mode": {
    "name": "ipython",
    "version": 3
   },
   "file_extension": ".py",
   "mimetype": "text/x-python",
   "name": "python",
   "nbconvert_exporter": "python",
   "pygments_lexer": "ipython3",
   "version": "3.9.13"
  }
 },
 "nbformat": 4,
 "nbformat_minor": 5
}
